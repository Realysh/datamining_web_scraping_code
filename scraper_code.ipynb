{
 "cells": [
  {
   "cell_type": "markdown",
   "metadata": {},
   "source": [
    "## 1. import libraries\n",
    " - use selenium, dotenv, pickle, re"
   ]
  },
  {
   "cell_type": "code",
   "execution_count": null,
   "metadata": {
    "vscode": {
     "languageId": "plaintext"
    }
   },
   "outputs": [],
   "source": [
    "import os\n",
    "import time\n",
    "import re\n",
    "import pickle\n",
    "import csv\n",
    "import random\n",
    "import traceback\n",
    "import sys\n",
    "\n",
    "from pathlib import Path\n",
    "\n",
    "from dotenv import load_dotenv\n",
    "from selenium import webdriver\n",
    "from selenium.webdriver.chrome.service import Service\n",
    "from selenium.webdriver.common.by import By\n",
    "from selenium.webdriver.support.ui import WebDriverWait\n",
    "from selenium.webdriver.support import expected_conditions as EC\n",
    "from selenium.common.exceptions import TimeoutException, NoSuchWindowException, NoSuchElementException\n",
    "import requests"
   ]
  },
  {
   "cell_type": "markdown",
   "metadata": {},
   "source": [
    "## 2. Path configuration\n",
    "- Define the base project directory and set the path for storing session cookies and images."
   ]
  },
  {
   "cell_type": "code",
   "execution_count": null,
   "metadata": {
    "vscode": {
     "languageId": "plaintext"
    }
   },
   "outputs": [],
   "source": [
    "#\n",
    "PROJECT_DIR = Path(\"/Users/hb/Desktop/PROJECT\")\n",
    "COOKIE_PATH = os.getenv(\"COOKIE_PATH\", PROJECT_DIR / \"cookies.pkl\")\n",
    "\n",
    "# load .env\n",
    "load_dotenv()\n",
    "INSTAGRAM_ID       = os.getenv(\"INSTAGRAM_ID\")\n",
    "INSTAGRAM_PASSWORD = os.getenv(\"INSTAGRAM_PASSWORD\")\n",
    "USER_AGENT         = os.getenv(\n",
    "    \"USER_AGENT\",\n",
    "    \"Mozilla/5.0 (Macintosh; Intel Mac OS X 10_15_7) \"\n",
    "    \"AppleWebKit/537.36 (KHTML, like Gecko) Chrome/114.0.0.0 Safari/537.36\"\n",
    ")\n",
    "ACCOUNTS = [acct.strip() for acct in os.getenv(\"INSTAGRAM_ACCOUNTS\", \"ccyc.live\").split(\",\")]\n",
    "\n",
    "CHROMEDRIVER_PATH = \"/opt/homebrew/bin/chromedriver\"\n",
    "BASE_IMG_DIR      = \"images\"\n",
    "MAX_POSTS         = 100\n",
    "SCROLL_PAUSE_MIN  = 6.0\n",
    "SCROLL_PAUSE_MAX  = 9.0"
   ]
  },
  {
   "cell_type": "markdown",
   "metadata": {},
   "source": [
    "## 3."
   ]
  },
  {
   "cell_type": "code",
   "execution_count": null,
   "metadata": {
    "vscode": {
     "languageId": "plaintext"
    }
   },
   "outputs": [],
   "source": [
    "default_patterns = {\n",
    "    \"date\":  [r\"(\\\\d{4}[./-]\\\\d{2}[./-]\\\\d{2})\", r\"\\\\d{4}년\\\\s*\\\\d{1,2}월\\\\s*\\\\d{1,2}일\"],\n",
    "    \"time\":  [r\"\\\\d{1,2}[:시]\\\\d{2}\", r\"\\\\d{1,2}시\"],\n",
    "    \"price\": [r\"([\\\\d,]+)(?=\\\\s*(?:원|[Ww]|KRW))\"],\n",
    "    \"place\": [r\"📍\\\\s*(.+)\", r\"(서울.*구.*)\"]\n",
    "}\n",
    "\n",
    "account_patterns = {\n",
    "    \"hongdaeff\": {\n",
    "        \"date\":  [r\"(\\\\d{4}/\\\\d{2}/\\\\d{2})\", r\"(\\\\d{1,2}/\\\\d{1,2})\"],\n",
    "        \"time\":  [r\"(\\\\d{1,2}[:.]\\\\d{2})\", r\"(\\\\d{1,2}PM|\\\\d{1,2}AM)\"],\n",
    "        \"price\": [\n",
    "            r\"([\\\\d,]+)(?=\\\\s*(?:원|[Ww]|KRW))\",\n",
    "            r\"(Cover\\\\s*[:\\\\-]?\\\\s*\\\\d{1,3},?\\\\d{3})\",\n",
    "            r\"(₩\\\\d{1,3},?\\\\d{3})\"\n",
    "        ],\n",
    "        \"place\": [r\"(서울시\\\\s?[^\\\\n\\\\r]+)\", r\"@hongdaeff\"]\n",
    "    }\n",
    "}"
   ]
  },
  {
   "cell_type": "markdown",
   "metadata": {},
   "source": []
  },
  {
   "cell_type": "code",
   "execution_count": null,
   "metadata": {
    "vscode": {
     "languageId": "plaintext"
    }
   },
   "outputs": [],
   "source": [
    "def convert_time(s):\n",
    "    # 시간 형식 통일 함수 (한국어, AM/PM 등 처리)\n",
    "    ...\n",
    "\n",
    "def multi_search(patterns, text):\n",
    "    # 여러 정규표현식을 순서대로 검색\n",
    "    ...\n",
    "\n",
    "def rand_sleep(a, b):\n",
    "    # 랜덤 슬립\n",
    "    ...\n",
    "\n",
    "def smooth_scroll(driver):\n",
    "    # 한 번에 400px 스크롤\n",
    "    driver.execute_script(\"window.scrollBy(0, 400);\")\n",
    "    rand_sleep(SCROLL_PAUSE_MIN, SCROLL_PAUSE_MAX)\n",
    "\n",
    "def load_instagram_cookies(driver, path=COOKIE_PATH):\n",
    "    # 쿠키 파일 로드 및 driver에 세팅\n",
    "    ..."
   ]
  },
  {
   "cell_type": "markdown",
   "metadata": {},
   "source": []
  },
  {
   "cell_type": "code",
   "execution_count": null,
   "metadata": {
    "vscode": {
     "languageId": "plaintext"
    }
   },
   "outputs": [],
   "source": [
    "options = webdriver.ChromeOptions()\n",
    "options.add_argument(f\"--user-agent={USER_AGENT}\")\n",
    "options.add_argument(\"--disable-blink-features=AutomationControlled\")\n",
    "options.add_experimental_option(\"excludeSwitches\", [\"enable-automation\"])\n",
    "options.add_experimental_option(\"useAutomationExtension\", False)\n",
    "options.add_argument(\"--no-sandbox\")\n",
    "options.add_argument(\"--disable-dev-shm-usage\")\n",
    "\n",
    "service = Service(CHROMEDRIVER_PATH)\n",
    "driver  = webdriver.Chrome(service=service, options=options)\n",
    "wait    = WebDriverWait(driver, 25)\n",
    "\n",
    "# navigator.webdriver 감춤\n",
    "driver.execute_cdp_cmd(\n",
    "    \"Page.addScriptToEvaluateOnNewDocument\",\n",
    "    {\"source\": \"Object.defineProperty(navigator, 'webdriver', { get: () => undefined });\"}\n",
    ")"
   ]
  },
  {
   "cell_type": "markdown",
   "metadata": {},
   "source": []
  },
  {
   "cell_type": "code",
   "execution_count": null,
   "metadata": {
    "vscode": {
     "languageId": "plaintext"
    }
   },
   "outputs": [],
   "source": [
    "options = webdriver.ChromeOptions()\n",
    "options.add_argument(f\"--user-agent={USER_AGENT}\")\n",
    "options.add_argument(\"--disable-blink-features=AutomationControlled\")\n",
    "options.add_experimental_option(\"excludeSwitches\", [\"enable-automation\"])\n",
    "options.add_experimental_option(\"useAutomationExtension\", False)\n",
    "options.add_argument(\"--no-sandbox\")\n",
    "options.add_argument(\"--disable-dev-shm-usage\")\n",
    "\n",
    "service = Service(CHROMEDRIVER_PATH)\n",
    "driver  = webdriver.Chrome(service=service, options=options)\n",
    "wait    = WebDriverWait(driver, 25)\n",
    "\n",
    "# navigator.webdriver 감춤\n",
    "driver.execute_cdp_cmd(\n",
    "    \"Page.addScriptToEvaluateOnNewDocument\",\n",
    "    {\"source\": \"Object.defineProperty(navigator, 'webdriver', { get: () => undefined });\"}\n",
    ")"
   ]
  },
  {
   "cell_type": "markdown",
   "metadata": {},
   "source": []
  },
  {
   "cell_type": "code",
   "execution_count": null,
   "metadata": {
    "vscode": {
     "languageId": "plaintext"
    }
   },
   "outputs": [],
   "source": [
    "try:\n",
    "    for account in ACCOUNTS:\n",
    "        # (1) 기존 csv 불러오기\n",
    "        # (2) 프로필 방문, 무한 스크롤로 링크 수집\n",
    "        # (3) 새 링크만 걸러서 게시물 열기\n",
    "        # (4) 본문에서 place, date, time, price 추출\n",
    "        # (5) CSV로 저장\n",
    "except KeyboardInterrupt:\n",
    "    # 안전 저장 후 중단\n",
    "except Exception as e:\n",
    "    # 예기치 못한 오류 저장 후 중단"
   ]
  },
  {
   "cell_type": "markdown",
   "metadata": {},
   "source": []
  },
  {
   "cell_type": "code",
   "execution_count": null,
   "metadata": {
    "vscode": {
     "languageId": "plaintext"
    }
   },
   "outputs": [],
   "source": [
    "driver.quit()"
   ]
  }
 ],
 "metadata": {
  "kernelspec": {
   "display_name": "tfenv",
   "language": "python",
   "name": "python3"
  },
  "language_info": {
   "codemirror_mode": {
    "name": "ipython",
    "version": 3
   },
   "file_extension": ".py",
   "mimetype": "text/x-python",
   "name": "python",
   "nbconvert_exporter": "python",
   "pygments_lexer": "ipython3",
   "version": "3.9.22"
  }
 },
 "nbformat": 4,
 "nbformat_minor": 2
}
