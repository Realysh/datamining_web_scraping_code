{
 "cells": [
  {
   "cell_type": "code",
   "execution_count": null,
   "metadata": {
    "vscode": {
     "languageId": "plaintext"
    }
   },
   "outputs": [],
   "source": [
    "# 쿠키 저장 코드 (최초 1회만 실행)\n",
    "from selenium import webdriver\n",
    "from selenium.webdriver.common.by import By\n",
    "from selenium.webdriver.common.keys import Keys\n",
    "from selenium.webdriver.chrome.service import Service\n",
    "import time\n",
    "import os\n",
    "import pickle\n",
    "\n",
    "from dotenv import load_dotenv\n",
    "from pathlib import Path\n",
    "\n",
    "BASE_DIR = Path(__file__).resolve().parent\n",
    "\n",
    "load_dotenv(dotenv_path=BASE_DIR / \".env_main\", override=True)\n",
    "INSTAGRAM_ID = os.getenv('INSTAGRAM_ID')\n",
    "INSTAGRAM_PASSWORD = os.getenv('INSTAGRAM_PASSWORD')\n",
    "\n",
    "options = webdriver.ChromeOptions()\n",
    "options.add_argument(\"user-agent=Mozilla/5.0\")\n",
    "options.add_experimental_option(\"detach\", True)\n",
    "driver_path = \"/opt/homebrew/bin/chromedriver\"\n",
    "service = Service(executable_path=driver_path)\n",
    "driver = webdriver.Chrome(service=service, options=options)\n",
    "\n",
    "driver.get('https://www.instagram.com/accounts/login/')\n",
    "time.sleep(5)\n",
    "driver.find_element(By.NAME, 'username').send_keys(INSTAGRAM_ID)\n",
    "driver.find_element(By.NAME, 'password').send_keys(INSTAGRAM_PASSWORD)\n",
    "driver.find_element(By.NAME, 'password').send_keys(Keys.ENTER)\n",
    "time.sleep(15)\n",
    "\n",
    "with open(\"cookies.pkl_main\", \"wb\") as f:\n",
    "    pickle.dump(driver.get_cookies(), f)\n",
    "\n",
    "\n",
    "print(\"✅ 쿠키 저장 완료!\")\n",
    "\n",
    "# 쿠키 불러와서 로그인 테스트\n",
    "driver.get(\"https://www.instagram.com\")\n",
    "time.sleep(3)\n",
    "\n",
    "with open(\"cookies_main.pkl\", \"rb\") as f:\n",
    "    cookies = pickle.load(f)\n",
    "    for cookie in cookies:\n",
    "        driver.add_cookie(cookie)\n",
    "\n",
    "driver.refresh()\n",
    "time.sleep(5)\n",
    "\n",
    "print(\"✅ 쿠키 로드 및 로그인 테스트 완료!\")"
   ]
  }
 ],
 "metadata": {
  "kernelspec": {
   "display_name": "tfenv",
   "language": "python",
   "name": "python3"
  },
  "language_info": {
   "codemirror_mode": {
    "name": "ipython",
    "version": 3
   },
   "file_extension": ".py",
   "mimetype": "text/x-python",
   "name": "python",
   "nbconvert_exporter": "python",
   "pygments_lexer": "ipython3",
   "version": "3.9.22"
  }
 },
 "nbformat": 4,
 "nbformat_minor": 2
}
