{
 "cells": [
  {
   "cell_type": "code",
   "execution_count": null,
   "metadata": {},
   "outputs": [
    {
     "name": "stdout",
     "output_type": "stream",
     "text": [
      "ENV_PATH: /Users/hb/Desktop/datamining/.env_main\n"
     ]
    },
    {
     "ename": "ValueError",
     "evalue": "❌ INSTAGRAM_ID or INSTAGRAM_PASSWORD not found. Check your .env_main and ENV_PATH.",
     "output_type": "error",
     "traceback": [
      "\u001b[31m---------------------------------------------------------------------------\u001b[39m",
      "\u001b[31mValueError\u001b[39m                                Traceback (most recent call last)",
      "\u001b[36mCell\u001b[39m\u001b[36m \u001b[39m\u001b[32mIn[2]\u001b[39m\u001b[32m, line 25\u001b[39m\n\u001b[32m     22\u001b[39m INSTAGRAM_PASSWORD = os.getenv(\u001b[33m'\u001b[39m\u001b[33mINSTAGRAM_PASSWORD\u001b[39m\u001b[33m'\u001b[39m)\n\u001b[32m     24\u001b[39m \u001b[38;5;28;01mif\u001b[39;00m \u001b[38;5;129;01mnot\u001b[39;00m INSTAGRAM_ID \u001b[38;5;129;01mor\u001b[39;00m \u001b[38;5;129;01mnot\u001b[39;00m INSTAGRAM_PASSWORD:\n\u001b[32m---> \u001b[39m\u001b[32m25\u001b[39m     \u001b[38;5;28;01mraise\u001b[39;00m \u001b[38;5;167;01mValueError\u001b[39;00m(\u001b[33m\"\u001b[39m\u001b[33m❌ INSTAGRAM_ID or INSTAGRAM_PASSWORD not found. Check your .env_main and ENV_PATH.\u001b[39m\u001b[33m\"\u001b[39m)\n",
      "\u001b[31mValueError\u001b[39m: ❌ INSTAGRAM_ID or INSTAGRAM_PASSWORD not found. Check your .env_main and ENV_PATH."
     ]
    }
   ],
   "source": [
    "from selenium import webdriver\n",
    "from selenium.webdriver.common.by import By\n",
    "from selenium.webdriver.common.keys import Keys\n",
    "from selenium.webdriver.chrome.service import Service\n",
    "import time\n",
    "import os\n",
    "import pickle\n",
    "\n",
    "from dotenv import load_dotenv\n",
    "from pathlib import Path\n",
    "\n",
    "try:\n",
    "    BASE_DIR = Path(__file__).resolve().parent\n",
    "except NameError:\n",
    "    BASE_DIR = Path().resolve()\n",
    "\n",
    "ENV_PATH = BASE_DIR / \"save_cookie\" / \".env_main\"\n",
    "print(\"ENV_PATH:\", ENV_PATH)\n",
    "\n",
    "load_dotenv(dotenv_path=ENV_PATH, override=True)\n",
    "INSTAGRAM_ID = os.getenv('INSTAGRAM_ID')\n",
    "INSTAGRAM_PASSWORD = os.getenv('INSTAGRAM_PASSWORD')\n",
    "\n",
    "if not INSTAGRAM_ID or not INSTAGRAM_PASSWORD:\n",
    "    raise ValueError(\"❌ INSTAGRAM_ID or INSTAGRAM_PASSWORD not found. Check your .env_main and ENV_PATH.\")"
   ]
  },
  {
   "cell_type": "markdown",
   "metadata": {},
   "source": [
    "#### 2: Set up WebDriver options and prepare driver\n",
    "##### - Configure Chrome options and initialize the driver"
   ]
  },
  {
   "cell_type": "code",
   "execution_count": null,
   "metadata": {},
   "outputs": [],
   "source": [
    "options = webdriver.ChromeOptions()\n",
    "options.add_argument(\"user-agent=Mozilla/5.0\")\n",
    "options.add_experimental_option(\"detach\", True)\n",
    "driver_path = \"/opt/homebrew/bin/chromedriver\"\n",
    "service = Service(executable_path=driver_path)\n",
    "driver = webdriver.Chrome(service=service, options=options)"
   ]
  },
  {
   "cell_type": "markdown",
   "metadata": {},
   "source": [
    "#### 3: Attempt Instagram login (enter ID, password, and submit)"
   ]
  },
  {
   "cell_type": "code",
   "execution_count": null,
   "metadata": {},
   "outputs": [],
   "source": [
    "driver.get('https://www.instagram.com/accounts/login/')\n",
    "time.sleep(5)\n",
    "driver.find_element(By.NAME, 'username').send_keys(INSTAGRAM_ID)\n",
    "driver.find_element(By.NAME, 'password').send_keys(INSTAGRAM_PASSWORD)\n",
    "driver.find_element(By.NAME, 'password').send_keys(Keys.ENTER)\n",
    "time.sleep(15)"
   ]
  },
  {
   "cell_type": "markdown",
   "metadata": {},
   "source": [
    "#### 4: Save cookies to a file and load cookies and test it"
   ]
  },
  {
   "cell_type": "code",
   "execution_count": null,
   "metadata": {},
   "outputs": [],
   "source": [
    "# Save cookies\n",
    "with open(\"cookies_main.pkl\", \"wb\") as f:\n",
    "    pickle.dump(driver.get_cookies(), f)\n",
    "print(\"✅ Cookie saving completed!\")\n",
    "\n",
    "# Load cookies\n",
    "driver.get(\"https://www.instagram.com\")\n",
    "time.sleep(3)\n",
    "with open(\"cookies_main.pkl\", \"rb\") as f:\n",
    "    cookies = pickle.load(f)\n",
    "    for cookie in cookies:\n",
    "        driver.add_cookie(cookie)\n",
    "driver.refresh()\n",
    "time.sleep(5)\n",
    "print(\"✅ Cookie load and login test completed!\")"
   ]
  }
 ],
 "metadata": {
  "kernelspec": {
   "display_name": "studyCrawling",
   "language": "python",
   "name": "python3"
  },
  "language_info": {
   "codemirror_mode": {
    "name": "ipython",
    "version": 3
   },
   "file_extension": ".py",
   "mimetype": "text/x-python",
   "name": "python",
   "nbconvert_exporter": "python",
   "pygments_lexer": "ipython3",
   "version": "3.13.2"
  }
 },
 "nbformat": 4,
 "nbformat_minor": 2
}
