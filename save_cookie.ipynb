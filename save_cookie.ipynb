{
 "cells": [
  {
   "cell_type": "markdown",
   "metadata": {},
   "source": [
    "##### 1. Import modules, set paths, and load .env"
   ]
  },
  {
   "cell_type": "code",
   "execution_count": null,
   "metadata": {},
   "outputs": [],
   "source": [
    "from selenium import webdriver\n",
    "from selenium.webdriver.common.by import By\n",
    "from selenium.webdriver.common.keys import Keys\n",
    "from selenium.webdriver.chrome.service import Service\n",
    "import time\n",
    "import os\n",
    "import pickle\n",
    "\n",
    "from dotenv import load_dotenv\n",
    "from pathlib import Path\n",
    "\n",
    "try:\n",
    "    BASE_DIR = Path(__file__).resolve().parent\n",
    "except NameError:\n",
    "    BASE_DIR = Path().resolve()\n"
   ]
  },
  {
   "cell_type": "markdown",
   "metadata": {},
   "source": [
    "#### 2: Set up WebDriver options and prepare driver\n",
    "##### - Configure Chrome options and initialize the driver"
   ]
  },
  {
   "cell_type": "code",
   "execution_count": 8,
   "metadata": {},
   "outputs": [],
   "source": [
    "options = webdriver.ChromeOptions()\n",
    "options.add_argument(\"user-agent=Mozilla/5.0\")\n",
    "options.add_experimental_option(\"detach\", True)\n",
    "driver_path = \"/opt/homebrew/bin/chromedriver\"\n",
    "service = Service(executable_path=driver_path)\n",
    "driver = webdriver.Chrome(service=service, options=options)"
   ]
  },
  {
   "cell_type": "markdown",
   "metadata": {},
   "source": [
    "#### 3: Attempt Instagram login (enter ID, password, and submit)"
   ]
  },
  {
   "cell_type": "code",
   "execution_count": 9,
   "metadata": {},
   "outputs": [
    {
     "ename": "NameError",
     "evalue": "name 'INSTAGRAM_ID' is not defined",
     "output_type": "error",
     "traceback": [
      "\u001b[31m---------------------------------------------------------------------------\u001b[39m",
      "\u001b[31mNameError\u001b[39m                                 Traceback (most recent call last)",
      "\u001b[36mCell\u001b[39m\u001b[36m \u001b[39m\u001b[32mIn[9]\u001b[39m\u001b[32m, line 3\u001b[39m\n\u001b[32m      1\u001b[39m driver.get(\u001b[33m'\u001b[39m\u001b[33mhttps://www.instagram.com/accounts/login/\u001b[39m\u001b[33m'\u001b[39m)\n\u001b[32m      2\u001b[39m time.sleep(\u001b[32m5\u001b[39m)\n\u001b[32m----> \u001b[39m\u001b[32m3\u001b[39m driver.find_element(By.NAME, \u001b[33m'\u001b[39m\u001b[33musername\u001b[39m\u001b[33m'\u001b[39m).send_keys(\u001b[43mINSTAGRAM_ID\u001b[49m)\n\u001b[32m      4\u001b[39m driver.find_element(By.NAME, \u001b[33m'\u001b[39m\u001b[33mpassword\u001b[39m\u001b[33m'\u001b[39m).send_keys(INSTAGRAM_PASSWORD)\n\u001b[32m      5\u001b[39m driver.find_element(By.NAME, \u001b[33m'\u001b[39m\u001b[33mpassword\u001b[39m\u001b[33m'\u001b[39m).send_keys(Keys.ENTER)\n",
      "\u001b[31mNameError\u001b[39m: name 'INSTAGRAM_ID' is not defined"
     ]
    }
   ],
   "source": [
    "driver.get('https://www.instagram.com/accounts/login/')\n",
    "time.sleep(5)\n",
    "driver.find_element(By.NAME, 'username').send_keys(INSTAGRAM_ID)\n",
    "driver.find_element(By.NAME, 'password').send_keys(INSTAGRAM_PASSWORD)\n",
    "driver.find_element(By.NAME, 'password').send_keys(Keys.ENTER)\n",
    "time.sleep(15)"
   ]
  },
  {
   "cell_type": "markdown",
   "metadata": {},
   "source": [
    "#### 4: Save cookies to a file and load cookies and test it"
   ]
  },
  {
   "cell_type": "code",
   "execution_count": null,
   "metadata": {},
   "outputs": [],
   "source": [
    "with open(\"cookies.pkl_main\", \"wb\") as f:\n",
    "    pickle.dump(driver.get_cookies(), f)\n",
    "\n",
    "\n",
    "print(\"✅ cookie saving completed!\")\n",
    "\n",
    "\n",
    "driver.get(\"https://www.instagram.com\")\n",
    "time.sleep(3)\n",
    "\n",
    "with open(\"cookies_main.pkl\", \"rb\") as f:\n",
    "    cookies = pickle.load(f)\n",
    "    for cookie in cookies:\n",
    "        driver.add_cookie(cookie)\n",
    "\n",
    "driver.refresh()\n",
    "time.sleep(5)\n",
    "\n",
    "print(\"✅ cokkie loading and login test completed\")"
   ]
  }
 ],
 "metadata": {
  "kernelspec": {
   "display_name": "Python 3",
   "language": "python",
   "name": "python3"
  },
  "language_info": {
   "codemirror_mode": {
    "name": "ipython",
    "version": 3
   },
   "file_extension": ".py",
   "mimetype": "text/x-python",
   "name": "python",
   "nbconvert_exporter": "python",
   "pygments_lexer": "ipython3",
   "version": "3.13.2"
  }
 },
 "nbformat": 4,
 "nbformat_minor": 2
}
